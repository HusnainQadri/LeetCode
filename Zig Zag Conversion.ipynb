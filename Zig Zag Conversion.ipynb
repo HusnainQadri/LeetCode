{
 "cells": [
  {
   "cell_type": "code",
   "execution_count": 74,
   "id": "d4be35d2",
   "metadata": {},
   "outputs": [],
   "source": [
    "def convert(s,numRows):\n",
    "    data = []\n",
    "    for i in range(numRows):\n",
    "        data.append(list())\n",
    "\n",
    "    counter = 0\n",
    "    while len(s) > counter:\n",
    "        for j in range(numRows):\n",
    "            if len(s) > counter:\n",
    "                data[j].append(s[counter])\n",
    "                counter += 1\n",
    "            else:\n",
    "                break\n",
    "        for j in range(numRows-1,1,-1):\n",
    "            if len(s) > counter:\n",
    "                data[j-1].append(s[counter])\n",
    "                counter += 1\n",
    "            else:\n",
    "                break\n",
    "        \n",
    "\n",
    "    print(data)\n",
    "    answer = []\n",
    "\n",
    "    for i in range(numRows):\n",
    "        idx = 0\n",
    "        for x in data[i]:\n",
    "            answer.append(x)\n",
    "            idx += 1\n",
    "\n",
    "    return ''.join(answer)"
   ]
  },
  {
   "cell_type": "code",
   "execution_count": 75,
   "id": "7e90efc3",
   "metadata": {},
   "outputs": [],
   "source": [
    "def main():\n",
    "    s = \"PAYPALISHIRING\"\n",
    "    numRows = 4\n",
    "    output = \"PINALSIGYAHRPI\"    \n",
    "    ko = convert(s,numRows)\n",
    "    \n",
    "    print(ko)\n",
    "    print(output)\n",
    "    \n",
    "    if output == ko:\n",
    "        print(\"PASS\")\n",
    "    else:\n",
    "        print(\"FAILED\")"
   ]
  },
  {
   "cell_type": "code",
   "execution_count": 76,
   "id": "a449432a",
   "metadata": {},
   "outputs": [
    {
     "name": "stdout",
     "output_type": "stream",
     "text": [
      "[['P', 'I', 'N'], ['A', 'L', 'S', 'I', 'G'], ['Y', 'A', 'H', 'R'], ['P', 'I']]\n",
      "PINALSIGYAHRPI\n",
      "PINALSIGYAHRPI\n",
      "PASS\n"
     ]
    }
   ],
   "source": [
    "main()"
   ]
  },
  {
   "cell_type": "code",
   "execution_count": null,
   "id": "12a2725d",
   "metadata": {},
   "outputs": [],
   "source": []
  }
 ],
 "metadata": {
  "kernelspec": {
   "display_name": "Python 3 (ipykernel)",
   "language": "python",
   "name": "python3"
  },
  "language_info": {
   "codemirror_mode": {
    "name": "ipython",
    "version": 3
   },
   "file_extension": ".py",
   "mimetype": "text/x-python",
   "name": "python",
   "nbconvert_exporter": "python",
   "pygments_lexer": "ipython3",
   "version": "3.9.7"
  }
 },
 "nbformat": 4,
 "nbformat_minor": 5
}
